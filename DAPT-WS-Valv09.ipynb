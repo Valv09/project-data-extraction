{
 "cells": [
  {
   "cell_type": "code",
   "execution_count": 1,
   "id": "7bbc0f73",
   "metadata": {},
   "outputs": [],
   "source": [
    "import time \n",
    "import re \n",
    "import sys\n",
    "import requests \n",
    "from pathlib import Path\n",
    "\n",
    "import numpy as np\n",
    "import pandas as pd \n",
    "\n",
    "from bs4 import BeautifulSoup\n",
    "\n",
    "from selenium import webdriver\n",
    "from selenium.webdriver.common.keys import Keys\n",
    "from selenium.webdriver.common.action_chains import ActionChains"
   ]
  },
  {
   "cell_type": "code",
   "execution_count": 2,
   "id": "dc559223",
   "metadata": {},
   "outputs": [],
   "source": [
    "def get_page_source(url):\n",
    "    \"\"\"\n",
    "    Esta es una función que extrae el código fuente\n",
    "    de una página de Aliexpress\n",
    "    \n",
    "    Returns\n",
    "        código fuente\n",
    "    \"\"\"\n",
    "    \n",
    "    randint = np.random.randint\n",
    "    # --------------------------- #\n",
    "    options = webdriver.ChromeOptions()\n",
    "    options.add_argument('--ignore-certificate-errors')\n",
    "    options.add_argument('--incognito')\n",
    "#     options.add_argument('--headless') # no aparezca el driver\n",
    "    # --------------------------- #\n",
    "    driver = webdriver.Chrome(r'C:\\Users\\irvg\\Downloads\\chromedriver_win32 (1)\\chromedriver.exe',\n",
    "                             chrome_options=options)\n",
    "    driver.get(url)\n",
    "    time.sleep(randint(3, high=7))\n",
    "    ActionChains(driver).send_keys(Keys.END).perform()\n",
    "    time.sleep(randint(3, high=7))\n",
    "    ActionChains(driver).send_keys(Keys.END).perform()\n",
    "    time.sleep(randint(3, high=7))\n",
    "    \n",
    "    page_source = driver.page_source\n",
    "    driver.quit()\n",
    "    \n",
    "    return page_source"
   ]
  },
  {
   "cell_type": "code",
   "execution_count": 3,
   "id": "5ab5c6d0",
   "metadata": {},
   "outputs": [],
   "source": [
    "def get_links(page_source):\n",
    "    \"\"\"\n",
    "    Recibe el código fuente de una página \n",
    "    extrae las urls y las regresa.\n",
    "    \n",
    "    Returns\n",
    "        list\n",
    "    \"\"\"\n",
    "    mamiferos = BeautifulSoup(page_source, 'lxml')\n",
    "    link_to_animal = mamiferos.select('a[class=\"display-name comname\"]')\n",
    "    links = [link['href'] for link in link_to_animal]\n",
    "    protocol = 'https://www.naturalista.mx'\n",
    "    links_with_protocol = [protocol + link for link in links]\n",
    "    return links_with_protocol\n"
   ]
  },
  {
   "cell_type": "code",
   "execution_count": 4,
   "id": "fdca5dc1",
   "metadata": {},
   "outputs": [],
   "source": [
    "def random_keypress_generator():\n",
    "    keys = [Keys.ARROW_DOWN, Keys.ARROW_LEFT, Keys.ARROW_UP, Keys.ARROW_RIGHT, Keys.DOWN, Keys.END, Keys.PAGE_UP]\n",
    "    action = np.random.choice(keys, p=[0.3, 0.05, 0.05, 0.1, 0.2, 0.2, 0.1])\n",
    "    return action"
   ]
  },
  {
   "cell_type": "code",
   "execution_count": 5,
   "id": "836e1b59",
   "metadata": {},
   "outputs": [],
   "source": [
    "def web_content(link):\n",
    "    \"\"\"\n",
    "    Recibe una url de producto\n",
    "    y extrae el codigo fuente\n",
    "        \n",
    "    Returns\n",
    "        código fuente\n",
    "    \"\"\"\n",
    "    random = np.random.choice\n",
    "    # --------------------------- #\n",
    "    options = webdriver.ChromeOptions()\n",
    "    options.add_argument('--ignore-certificate-errors')\n",
    "    options.add_argument('--incognito')\n",
    "#     options.add_argument('--headless') # no aparezca el driver\n",
    "    # --------------------------- #\n",
    "    driver = webdriver.Chrome(r'C:\\Users\\irvg\\Downloads\\chromedriver_win32 (1)\\chromedriver.exe',\n",
    "                             chrome_options=options)\n",
    "    driver.get(link)\n",
    "    time.sleep(random(5))\n",
    "    for ran in range(random(3)):       # keys.END\n",
    "        ActionChains(driver).send_keys(random_keypress_generator()).perform()\n",
    "        time.sleep(random(4))\n",
    "    page_source = driver.page_source\n",
    "    driver.quit()\n",
    "    return page_source"
   ]
  },
  {
   "cell_type": "code",
   "execution_count": 10,
   "id": "910e31d7",
   "metadata": {},
   "outputs": [],
   "source": [
    "def naturalista_animal(page_source):\n",
    "    \"\"\"\n",
    "    Recibe una url y extrae cinco atributos:\n",
    "        -nombre del animal\n",
    "        -nombre del observador\n",
    "        -numero de observaciones\n",
    "        -fecha\n",
    "        -lugar\n",
    "        \n",
    "    Returns\n",
    "        tuple\n",
    "    \"\"\"\n",
    "    animal = BeautifulSoup(page_source, 'lxml')\n",
    "    animal_observer = animal.select('div[class=\"title\"]')\n",
    "    text = [x.text for x in animal_observer]\n",
    "    observador = text[0]\n",
    "    animal_observations = animal.select('div[class=\"subtitle\"]')\n",
    "    text = [x.text for x in animal_observations]\n",
    "    observations = re.findall(r'[0-9].+?', text[0])\n",
    "    animal_date = animal.select('div[class=\"col-xs-6\"]')\n",
    "    text = [x.text for x in animal_date]\n",
    "    date = animal.find('span', class_='date').get_text()\n",
    "    animal_place = animal.select('div[class=\"place-guess\"]')\n",
    "    text = [x.text for x in animal_place]\n",
    "    place = text[0]\n",
    "    try:\n",
    "        animal_name = animal.find('span', class_='SplitTaxon taxon species Mammalia has-com-name parens').get_text()\n",
    "    except AttributeError:\n",
    "         animal_name = animal.find('span', class_='SplitTaxon taxon subfamily Mammalia has-com-name parens').get_text()\n",
    "        \n",
    "\n",
    "    return animal_name, observador, observations, date, place"
   ]
  },
  {
   "cell_type": "code",
   "execution_count": 11,
   "id": "5e136c41",
   "metadata": {},
   "outputs": [],
   "source": [
    "def naturalist_animal_project():\n",
    "    url = \"https://www.naturalista.mx/observations?taxon_id=40151\"\n",
    "    page_source = get_page_source(url)\n",
    "    links = get_links(page_source)\n",
    "    print(len(links))\n",
    "\n",
    "    for num, link in enumerate(links, start=1):\n",
    "\n",
    "        print(f\"This link is #{num}\")\n",
    "        filename = f\"animal_{num}_naturalista.csv\"\n",
    "        filename = \"data/\"+ filename\n",
    "        print(\"Document will be place and call: \" + filename)\n",
    "\n",
    "        if not Path(filename).is_file():\n",
    "            page_source = web_content(link)\n",
    "            print(link)\n",
    "            print(\"Finish extracting animal's page source.\")\n",
    "            print(\"Parsing content.\")\n",
    "            variables = naturalista_animal(page_source)\n",
    "            print(\"Finish Parsing. Appending.\")\n",
    "            variables = list(variables) + [link]\n",
    "            print(variables)\n",
    "            df = pd.DataFrame([variables], columns=[\"Animal_Name\", \"Observer\",\n",
    "                                     \"Observations\", \"Date\", \n",
    "                                     \"Place\", \n",
    "                                     \"Link\"],\n",
    "                          dtype=object)\n",
    "\n",
    "            df.to_csv(filename, index = False)\n",
    "            print(f\"{filename} saved.\")\n",
    "\n",
    "    print(\"Finished!\")"
   ]
  },
  {
   "cell_type": "code",
   "execution_count": 13,
   "id": "797b132a",
   "metadata": {},
   "outputs": [
    {
     "name": "stderr",
     "output_type": "stream",
     "text": [
      "C:\\Users\\irvg\\AppData\\Local\\Temp\\ipykernel_21348\\3968868104.py:17: DeprecationWarning: executable_path has been deprecated, please pass in a Service object\n",
      "  driver = webdriver.Chrome(r'C:\\Users\\irvg\\Downloads\\chromedriver_win32 (1)\\chromedriver.exe',\n",
      "C:\\Users\\irvg\\AppData\\Local\\Temp\\ipykernel_21348\\3968868104.py:17: DeprecationWarning: use options instead of chrome_options\n",
      "  driver = webdriver.Chrome(r'C:\\Users\\irvg\\Downloads\\chromedriver_win32 (1)\\chromedriver.exe',\n"
     ]
    },
    {
     "name": "stdout",
     "output_type": "stream",
     "text": [
      "266\n",
      "This link is #1\n",
      "Document will be place and call: data/animal_1_naturalista.csv\n"
     ]
    },
    {
     "name": "stderr",
     "output_type": "stream",
     "text": [
      "C:\\Users\\irvg\\AppData\\Local\\Temp\\ipykernel_21348\\3728835599.py:16: DeprecationWarning: executable_path has been deprecated, please pass in a Service object\n",
      "  driver = webdriver.Chrome(r'C:\\Users\\irvg\\Downloads\\chromedriver_win32 (1)\\chromedriver.exe',\n",
      "C:\\Users\\irvg\\AppData\\Local\\Temp\\ipykernel_21348\\3728835599.py:16: DeprecationWarning: use options instead of chrome_options\n",
      "  driver = webdriver.Chrome(r'C:\\Users\\irvg\\Downloads\\chromedriver_win32 (1)\\chromedriver.exe',\n"
     ]
    },
    {
     "name": "stdout",
     "output_type": "stream",
     "text": [
      "https://www.naturalista.mx/observations/131507777\n",
      "Finish extracting animal's page source.\n",
      "Parsing content.\n",
      "Finish Parsing. Appending.\n",
      "['Mapache Procyon lotor', 'tepelmeme16', ['83'], 'nov. 18, 2019 · 17:16 CST', 'Tepelmeme Villa de Morelos, Oax....Muestra', 'https://www.naturalista.mx/observations/131507777']\n",
      "data/animal_1_naturalista.csv saved.\n",
      "This link is #2\n",
      "Document will be place and call: data/animal_2_naturalista.csv\n"
     ]
    },
    {
     "name": "stderr",
     "output_type": "stream",
     "text": [
      "C:\\Users\\irvg\\AppData\\Local\\Temp\\ipykernel_21348\\3728835599.py:16: DeprecationWarning: executable_path has been deprecated, please pass in a Service object\n",
      "  driver = webdriver.Chrome(r'C:\\Users\\irvg\\Downloads\\chromedriver_win32 (1)\\chromedriver.exe',\n",
      "C:\\Users\\irvg\\AppData\\Local\\Temp\\ipykernel_21348\\3728835599.py:16: DeprecationWarning: use options instead of chrome_options\n",
      "  driver = webdriver.Chrome(r'C:\\Users\\irvg\\Downloads\\chromedriver_win32 (1)\\chromedriver.exe',\n"
     ]
    },
    {
     "name": "stdout",
     "output_type": "stream",
     "text": [
      "https://www.naturalista.mx/observations/131507414\n",
      "Finish extracting animal's page source.\n",
      "Parsing content.\n"
     ]
    },
    {
     "ename": "IndexError",
     "evalue": "list index out of range",
     "output_type": "error",
     "traceback": [
      "\u001b[1;31m---------------------------------------------------------------------------\u001b[0m",
      "\u001b[1;31mIndexError\u001b[0m                                Traceback (most recent call last)",
      "Input \u001b[1;32mIn [13]\u001b[0m, in \u001b[0;36m<cell line: 1>\u001b[1;34m()\u001b[0m\n\u001b[1;32m----> 1\u001b[0m \u001b[43mnaturalist_animal_project\u001b[49m\u001b[43m(\u001b[49m\u001b[43m)\u001b[49m\n",
      "Input \u001b[1;32mIn [11]\u001b[0m, in \u001b[0;36mnaturalist_animal_project\u001b[1;34m()\u001b[0m\n\u001b[0;32m     17\u001b[0m \u001b[38;5;28mprint\u001b[39m(\u001b[38;5;124m\"\u001b[39m\u001b[38;5;124mFinish extracting animal\u001b[39m\u001b[38;5;124m'\u001b[39m\u001b[38;5;124ms page source.\u001b[39m\u001b[38;5;124m\"\u001b[39m)\n\u001b[0;32m     18\u001b[0m \u001b[38;5;28mprint\u001b[39m(\u001b[38;5;124m\"\u001b[39m\u001b[38;5;124mParsing content.\u001b[39m\u001b[38;5;124m\"\u001b[39m)\n\u001b[1;32m---> 19\u001b[0m variables \u001b[38;5;241m=\u001b[39m \u001b[43mnaturalista_animal\u001b[49m\u001b[43m(\u001b[49m\u001b[43mpage_source\u001b[49m\u001b[43m)\u001b[49m\n\u001b[0;32m     20\u001b[0m \u001b[38;5;28mprint\u001b[39m(\u001b[38;5;124m\"\u001b[39m\u001b[38;5;124mFinish Parsing. Appending.\u001b[39m\u001b[38;5;124m\"\u001b[39m)\n\u001b[0;32m     21\u001b[0m variables \u001b[38;5;241m=\u001b[39m \u001b[38;5;28mlist\u001b[39m(variables) \u001b[38;5;241m+\u001b[39m [link]\n",
      "Input \u001b[1;32mIn [10]\u001b[0m, in \u001b[0;36mnaturalista_animal\u001b[1;34m(page_source)\u001b[0m\n\u001b[0;32m     14\u001b[0m animal_observer \u001b[38;5;241m=\u001b[39m animal\u001b[38;5;241m.\u001b[39mselect(\u001b[38;5;124m'\u001b[39m\u001b[38;5;124mdiv[class=\u001b[39m\u001b[38;5;124m\"\u001b[39m\u001b[38;5;124mtitle\u001b[39m\u001b[38;5;124m\"\u001b[39m\u001b[38;5;124m]\u001b[39m\u001b[38;5;124m'\u001b[39m)\n\u001b[0;32m     15\u001b[0m text \u001b[38;5;241m=\u001b[39m [x\u001b[38;5;241m.\u001b[39mtext \u001b[38;5;28;01mfor\u001b[39;00m x \u001b[38;5;129;01min\u001b[39;00m animal_observer]\n\u001b[1;32m---> 16\u001b[0m observador \u001b[38;5;241m=\u001b[39m \u001b[43mtext\u001b[49m\u001b[43m[\u001b[49m\u001b[38;5;241;43m0\u001b[39;49m\u001b[43m]\u001b[49m\n\u001b[0;32m     17\u001b[0m animal_observations \u001b[38;5;241m=\u001b[39m animal\u001b[38;5;241m.\u001b[39mselect(\u001b[38;5;124m'\u001b[39m\u001b[38;5;124mdiv[class=\u001b[39m\u001b[38;5;124m\"\u001b[39m\u001b[38;5;124msubtitle\u001b[39m\u001b[38;5;124m\"\u001b[39m\u001b[38;5;124m]\u001b[39m\u001b[38;5;124m'\u001b[39m)\n\u001b[0;32m     18\u001b[0m text \u001b[38;5;241m=\u001b[39m [x\u001b[38;5;241m.\u001b[39mtext \u001b[38;5;28;01mfor\u001b[39;00m x \u001b[38;5;129;01min\u001b[39;00m animal_observations]\n",
      "\u001b[1;31mIndexError\u001b[0m: list index out of range"
     ]
    }
   ],
   "source": [
    "naturalist_animal_project()"
   ]
  },
  {
   "cell_type": "code",
   "execution_count": null,
   "id": "696b372e",
   "metadata": {},
   "outputs": [],
   "source": []
  }
 ],
 "metadata": {
  "kernelspec": {
   "display_name": "Python 3 (ipykernel)",
   "language": "python",
   "name": "python3"
  },
  "language_info": {
   "codemirror_mode": {
    "name": "ipython",
    "version": 3
   },
   "file_extension": ".py",
   "mimetype": "text/x-python",
   "name": "python",
   "nbconvert_exporter": "python",
   "pygments_lexer": "ipython3",
   "version": "3.9.12"
  }
 },
 "nbformat": 4,
 "nbformat_minor": 5
}
